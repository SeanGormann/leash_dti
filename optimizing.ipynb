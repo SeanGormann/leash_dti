{
 "cells": [
  {
   "cell_type": "code",
   "execution_count": 12,
   "metadata": {},
   "outputs": [],
   "source": [
    "import pandas as pd\n",
    "import numpy as np\n",
    "import polars as pl\n",
    "from time import time\n",
    "from torch_geometric.data import Data, Batch\n",
    "from tqdm import tqdm\n"
   ]
  },
  {
   "cell_type": "code",
   "execution_count": 7,
   "metadata": {},
   "outputs": [
    {
     "name": "stdout",
     "output_type": "stream",
     "text": [
      "ID 0: Data(x=[13, 8], edge_index=[2, 11])\n",
      "ID 1: Data(x=[33, 8], edge_index=[2, 36])\n"
     ]
    }
   ],
   "source": [
    "graphs = pd.read_pickle('data/all_buildingblock.pkl')\n",
    "graph_dict = {row['id']: row['mol_graph'] for _, row in graphs.iterrows()}\n",
    "print(f'ID 0: {graph_dict[0]}\\nID 1: {graph_dict[1]}')"
   ]
  },
  {
   "cell_type": "code",
   "execution_count": 10,
   "metadata": {},
   "outputs": [],
   "source": [
    "#shuffle the dataset\n",
    "def shuffle_dataset(buildingblock_ids, targets):\n",
    "    len_dataset = len(buildingblock_ids)\n",
    "    indices = np.arange(len_dataset)\n",
    "    np.random.shuffle(indices)\n",
    "    return buildingblock_ids[indices], targets[indices]\n",
    "\n",
    "# Verify by loading the saved .npz file\n",
    "loaded_data = np.load('data/dataset.npz')\n",
    "loaded_buildingblock_ids = loaded_data['buildingblock_ids']\n",
    "loaded_targets = loaded_data['targets']"
   ]
  },
  {
   "cell_type": "code",
   "execution_count": 9,
   "metadata": {},
   "outputs": [
    {
     "name": "stdout",
     "output_type": "stream",
     "text": [
      "Loaded buildingblock_ids: [[ 614  901  938]\n",
      " [1131  415  211]\n",
      " [   7  699  647]\n",
      " [ 249  418 1012]\n",
      " [ 462 1023  369]\n",
      " [ 650   67  394]\n",
      " [ 258  769  978]\n",
      " [ 679  296  379]\n",
      " [ 419  725  834]\n",
      " [ 450  830 1005]]\n"
     ]
    }
   ],
   "source": [
    "len_dataset = len(loaded_buildingblock_ids)\n",
    "batch_size = 2048\n",
    "\n",
    "\n",
    "loaded_buildingblock_ids, loaded_targets = shuffle_dataset(loaded_buildingblock_ids, loaded_targets)\n",
    "print(f'Loaded buildingblock_ids: {loaded_buildingblock_ids[:10]}')"
   ]
  },
  {
   "cell_type": "markdown",
   "metadata": {},
   "source": [
    "# If only it was this fast\n",
    "It's very quick just going through the bb - ids and grouping them into batch_size. "
   ]
  },
  {
   "cell_type": "code",
   "execution_count": 16,
   "metadata": {},
   "outputs": [
    {
     "name": "stderr",
     "output_type": "stream",
     "text": [
      "100%|██████████| 48055/48055 [00:00<00:00, 124588.11it/s]\n"
     ]
    },
    {
     "name": "stdout",
     "output_type": "stream",
     "text": [
      "Epoch done in time: 0.39 seconds\n"
     ]
    },
    {
     "name": "stderr",
     "output_type": "stream",
     "text": [
      "100%|██████████| 48055/48055 [00:00<00:00, 119474.41it/s]\n"
     ]
    },
    {
     "name": "stdout",
     "output_type": "stream",
     "text": [
      "Epoch done in time: 31.24 seconds\n"
     ]
    },
    {
     "name": "stderr",
     "output_type": "stream",
     "text": [
      "100%|██████████| 48055/48055 [00:00<00:00, 103978.85it/s]\n"
     ]
    },
    {
     "name": "stdout",
     "output_type": "stream",
     "text": [
      "Epoch done in time: 60.43 seconds\n"
     ]
    },
    {
     "name": "stderr",
     "output_type": "stream",
     "text": [
      "100%|██████████| 48055/48055 [00:00<00:00, 104013.19it/s]\n"
     ]
    },
    {
     "name": "stdout",
     "output_type": "stream",
     "text": [
      "Epoch done in time: 90.30 seconds\n",
      "Time taken to iterate over the dataset (98415610) in batches: 118.63 seconds\n"
     ]
    }
   ],
   "source": [
    "\n",
    "start_time = time()\n",
    "for epoch in range(4):\n",
    "    for i in tqdm(range(0, len_dataset, batch_size)):\n",
    "        bbs_array = loaded_buildingblock_ids[i:i+batch_size]\n",
    "        targets_array = loaded_targets[i:i+batch_size]\n",
    "        flat_bbs = bbs_array.flatten()\n",
    "    print(f\"Epoch done in time: {time() - start_time:.2f} seconds\")\n",
    "    \n",
    "    loaded_buildingblock_ids, loaded_targets = shuffle_dataset(loaded_buildingblock_ids, loaded_targets)\n",
    "\n",
    "# Process the batch here\n",
    "end_time = time()\n",
    "print(f'Time taken to iterate over the dataset ({len_dataset}) in batches: {end_time - start_time:.2f} seconds')\n"
   ]
  },
  {
   "cell_type": "markdown",
   "metadata": {},
   "source": [
    "# El Problemo \n",
    "\n",
    "The biggest bottleneck is Crating batches of objects from lists of graphs. I tried just indexing the buildingblock dictionary to check if that is the bottleneck, but it's definitely the Batch Creation."
   ]
  },
  {
   "cell_type": "code",
   "execution_count": 24,
   "metadata": {},
   "outputs": [
    {
     "name": "stderr",
     "output_type": "stream",
     "text": [
      "  0%|          | 25/48055 [00:05<2:41:21,  4.96it/s]\n",
      "  0%|          | 25/48055 [00:05<2:47:40,  4.77it/s]\n",
      "  0%|          | 25/48055 [00:04<2:39:53,  5.01it/s]\n",
      "  0%|          | 25/48055 [00:05<2:42:23,  4.93it/s]"
     ]
    },
    {
     "name": "stdout",
     "output_type": "stream",
     "text": [
      "Time taken to iterate over 100 batches in batches: 20.35 seconds\n"
     ]
    },
    {
     "name": "stderr",
     "output_type": "stream",
     "text": [
      "\n"
     ]
    }
   ],
   "source": [
    "def custom_batching(flat_bbs):\n",
    "    graphs_array_1 = [graph_dict[bb] for bb in flat_bbs[0::3]]\n",
    "    graphs_array_2 = [graph_dict[bb] for bb in flat_bbs[1::3]]\n",
    "    graphs_array_3 = [graph_dict[bb] for bb in flat_bbs[2::3]]\n",
    "    return Batch.from_data_list(graphs_array_1), Batch.from_data_list(graphs_array_2), Batch.from_data_list(graphs_array_3)\n",
    "\n",
    "start_time = time()\n",
    "for epoch in range(4):\n",
    "    for i in tqdm(range(0, len_dataset, batch_size)):\n",
    "        bbs_array = loaded_buildingblock_ids[i:i+batch_size]\n",
    "        targets_array = loaded_targets[i:i+batch_size]\n",
    "        flat_bbs = bbs_array.flatten()\n",
    "        batch_graphs, bgs, bg3 = custom_batching(flat_bbs) \n",
    "        if i % 50 == 0 and i > 0:\n",
    "            break\n",
    "\n",
    "\n",
    "# Process the batch here\n",
    "end_time = time()\n",
    "print(f'Time taken to iterate over 100 batches in batches: {end_time - start_time:.2f} seconds')\n"
   ]
  }
 ],
 "metadata": {
  "kernelspec": {
   "display_name": "venv",
   "language": "python",
   "name": "python3"
  },
  "language_info": {
   "codemirror_mode": {
    "name": "ipython",
    "version": 3
   },
   "file_extension": ".py",
   "mimetype": "text/x-python",
   "name": "python",
   "nbconvert_exporter": "python",
   "pygments_lexer": "ipython3",
   "version": "3.9.17"
  }
 },
 "nbformat": 4,
 "nbformat_minor": 2
}
